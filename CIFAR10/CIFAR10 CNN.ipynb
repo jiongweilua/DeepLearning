{
 "cells": [
  {
   "cell_type": "code",
   "execution_count": 5,
   "metadata": {},
   "outputs": [
    {
     "name": "stderr",
     "output_type": "stream",
     "text": [
      "Using TensorFlow backend.\n",
      "/Library/Frameworks/Python.framework/Versions/3.6/lib/python3.6/importlib/_bootstrap.py:219: RuntimeWarning: compiletime version 3.5 of module 'tensorflow.python.framework.fast_tensor_util' does not match runtime version 3.6\n",
      "  return f(*args, **kwds)\n"
     ]
    }
   ],
   "source": [
    "import time\n",
    "import pandas as pd\n",
    "import matplotlib.pyplot as plt\n",
    "import numpy as np\n",
    "from keras.models import Sequential\n",
    "from keras.layers import Dense\n",
    "from keras.layers import Dropout\n",
    "from keras.layers import Flatten\n",
    "from keras.constraints import maxnorm\n",
    "from keras.optimizers import SGD\n",
    "from keras.layers import Activation\n",
    "from keras.layers.convolutional import Conv2D\n",
    "from keras.layers.convolutional import MaxPooling2D\n",
    "from keras.layers.normalization import BatchNormalization\n",
    "from keras.utils import np_utils\n",
    "from keras_sequential_ascii import sequential_model_to_ascii_printout\n",
    "from keras import backend as K\n",
    "if K.backend()=='tensorflow':\n",
    "    K.set_image_dim_ordering(\"th\")\n",
    " \n",
    "# Import Tensorflow with multiprocessing\n",
    "import tensorflow as tf\n",
    "import multiprocessing as mp\n",
    " \n",
    "# Loading the CIFAR-10 datasets\n",
    "from keras.datasets import cifar10"
   ]
  },
  {
   "cell_type": "code",
   "execution_count": 6,
   "metadata": {},
   "outputs": [
    {
     "data": {
      "text/plain": [
       "'/Users/jiongwei/Documents/CIFAR10'"
      ]
     },
     "execution_count": 6,
     "metadata": {},
     "output_type": "execute_result"
    }
   ],
   "source": [
    "import os \n",
    "os.getcwd()"
   ]
  },
  {
   "cell_type": "code",
   "execution_count": 7,
   "metadata": {},
   "outputs": [],
   "source": [
    "seed = 7\n",
    "np.random.seed(seed)"
   ]
  },
  {
   "cell_type": "code",
   "execution_count": 8,
   "metadata": {},
   "outputs": [],
   "source": [
    "def unpickle(file):\n",
    "    import pickle\n",
    "    with open(file, 'rb') as fo:\n",
    "        dict = pickle.load(fo, encoding='bytes')\n",
    "    return dict"
   ]
  },
  {
   "cell_type": "code",
   "execution_count": 9,
   "metadata": {},
   "outputs": [
    {
     "name": "stdout",
     "output_type": "stream",
     "text": [
      "dict_keys([b'batch_label', b'labels', b'data', b'filenames'])\n",
      "dict_keys([b'batch_label', b'labels', b'data', b'filenames'])\n",
      "dict_keys([b'batch_label', b'labels', b'data', b'filenames'])\n",
      "dict_keys([b'batch_label', b'labels', b'data', b'filenames'])\n",
      "dict_keys([b'batch_label', b'labels', b'data', b'filenames'])\n",
      "(50000, 3072) (50000, 1) (10000, 3072) (10000, 1)\n",
      "   0\n",
      "0  6\n",
      "1  9\n",
      "2  9\n",
      "3  4\n",
      "4  1\n"
     ]
    }
   ],
   "source": [
    "batch_data_dir  = os.getcwd() + '/data'\n",
    "X_train = pd.DataFrame()\n",
    "Y_train = pd.DataFrame()\n",
    "X_test = pd.DataFrame()\n",
    "Y_test = pd.DataFrame()\n",
    "for i in os.listdir(batch_data_dir):\n",
    "    if i.startswith('data'):\n",
    "        data = unpickle(batch_data_dir + '/' + str(i))\n",
    "        print(data.keys())\n",
    "        x = pd.DataFrame(data[b'data'])\n",
    "        y = pd.DataFrame(data[b'labels'])\n",
    "        Y_train = Y_train.append(y)\n",
    "        X_train = X_train.append(x)\n",
    "    elif i.startswith('test'):\n",
    "        X_test = pd.DataFrame(data[b'data'])\n",
    "        Y_test = pd.DataFrame(data[b'labels'])\n",
    "\n",
    "print(X_train.shape, Y_train.shape, X_test.shape, Y_test.shape)\n",
    "print(Y_train.head())"
   ]
  },
  {
   "cell_type": "code",
   "execution_count": 10,
   "metadata": {},
   "outputs": [],
   "source": [
    "X_train = X_train.astype('float32')\n",
    "X_test = X_test.astype('float32')\n",
    "X_train = X_train/255.0\n",
    "X_test = X_test/255.0"
   ]
  },
  {
   "cell_type": "code",
   "execution_count": 11,
   "metadata": {},
   "outputs": [
    {
     "name": "stdout",
     "output_type": "stream",
     "text": [
      "[0 1 2 3 4 5 6 7 8 9] (50000, 1)\n"
     ]
    }
   ],
   "source": [
    "print(np.unique(Y_train), Y_train.shape)"
   ]
  },
  {
   "cell_type": "code",
   "execution_count": 12,
   "metadata": {},
   "outputs": [],
   "source": [
    "Y_train = np_utils.to_categorical(Y_train)\n",
    "Y_test = np_utils.to_categorical(Y_test)"
   ]
  },
  {
   "cell_type": "code",
   "execution_count": 13,
   "metadata": {},
   "outputs": [
    {
     "name": "stdout",
     "output_type": "stream",
     "text": [
      "(50000, 10) (10000, 10)\n"
     ]
    }
   ],
   "source": [
    "print(Y_train.shape, Y_test.shape)"
   ]
  },
  {
   "cell_type": "code",
   "execution_count": 14,
   "metadata": {},
   "outputs": [],
   "source": [
    "X_train_reshape = X_train.values.reshape((50000,32,32,3))"
   ]
  },
  {
   "cell_type": "code",
   "execution_count": 15,
   "metadata": {},
   "outputs": [],
   "source": [
    "X_test_reshape = X_test.values.reshape((10000,32,32,3))"
   ]
  },
  {
   "cell_type": "code",
   "execution_count": 16,
   "metadata": {},
   "outputs": [
    {
     "name": "stdout",
     "output_type": "stream",
     "text": [
      "_________________________________________________________________\n",
      "Layer (type)                 Output Shape              Param #   \n",
      "=================================================================\n",
      "conv2d_1 (Conv2D)            (None, 32, 32, 3)         9248      \n",
      "_________________________________________________________________\n",
      "dropout_1 (Dropout)          (None, 32, 32, 3)         0         \n",
      "_________________________________________________________________\n",
      "conv2d_2 (Conv2D)            (None, 32, 32, 3)         9248      \n",
      "_________________________________________________________________\n",
      "max_pooling2d_1 (MaxPooling2 (None, 32, 16, 1)         0         \n",
      "_________________________________________________________________\n",
      "flatten_1 (Flatten)          (None, 512)               0         \n",
      "_________________________________________________________________\n",
      "dense_1 (Dense)              (None, 512)               262656    \n",
      "_________________________________________________________________\n",
      "dropout_2 (Dropout)          (None, 512)               0         \n",
      "_________________________________________________________________\n",
      "dense_2 (Dense)              (None, 10)                5130      \n",
      "=================================================================\n",
      "Total params: 286,282\n",
      "Trainable params: 286,282\n",
      "Non-trainable params: 0\n",
      "_________________________________________________________________\n",
      "None\n"
     ]
    }
   ],
   "source": [
    "# Create the model\n",
    "model = Sequential()\n",
    "model.add(Conv2D(32, (3, 3), input_shape=(32, 32, 3), padding='same', activation='relu', kernel_constraint=maxnorm(3)))\n",
    "model.add(Dropout(0.2))\n",
    "model.add(Conv2D(32, (3, 3), activation='relu', padding='same', kernel_constraint=maxnorm(3)))\n",
    "model.add(MaxPooling2D(pool_size=(2, 2)))\n",
    "model.add(Flatten())\n",
    "model.add(Dense(512, activation='relu', kernel_constraint=maxnorm(3)))\n",
    "model.add(Dropout(0.5))\n",
    "model.add(Dense(10, activation='softmax'))\n",
    "# Compile model\n",
    "epochs = 50\n",
    "lrate = 0.01\n",
    "decay = lrate/epochs\n",
    "sgd = SGD(lr=lrate, momentum=0.9, decay=decay, nesterov=False)\n",
    "model.compile(loss='categorical_crossentropy', optimizer=sgd, metrics=['accuracy'])\n",
    "print(model.summary())"
   ]
  },
  {
   "cell_type": "code",
   "execution_count": 17,
   "metadata": {},
   "outputs": [
    {
     "name": "stdout",
     "output_type": "stream",
     "text": [
      "Train on 50000 samples, validate on 10000 samples\n",
      "Epoch 1/50\n",
      "50000/50000 [==============================] - 42s 833us/step - loss: 1.8848 - acc: 0.3048 - val_loss: 1.6708 - val_acc: 0.4004\n",
      "Epoch 2/50\n",
      "50000/50000 [==============================] - 38s 758us/step - loss: 1.6501 - acc: 0.4032 - val_loss: 1.5097 - val_acc: 0.4582\n",
      "Epoch 3/50\n",
      "50000/50000 [==============================] - 37s 731us/step - loss: 1.5548 - acc: 0.4394 - val_loss: 1.4678 - val_acc: 0.4800\n",
      "Epoch 4/50\n",
      "50000/50000 [==============================] - 37s 741us/step - loss: 1.4981 - acc: 0.4593 - val_loss: 1.3677 - val_acc: 0.5138\n",
      "Epoch 5/50\n",
      "50000/50000 [==============================] - 37s 736us/step - loss: 1.4511 - acc: 0.4769 - val_loss: 1.3529 - val_acc: 0.5121\n",
      "Epoch 6/50\n",
      "50000/50000 [==============================] - 37s 735us/step - loss: 1.4111 - acc: 0.4924 - val_loss: 1.3413 - val_acc: 0.5189\n",
      "Epoch 7/50\n",
      "50000/50000 [==============================] - 36s 728us/step - loss: 1.3785 - acc: 0.5010 - val_loss: 1.2835 - val_acc: 0.5407\n",
      "Epoch 8/50\n",
      "50000/50000 [==============================] - 37s 730us/step - loss: 1.3567 - acc: 0.5104 - val_loss: 1.2566 - val_acc: 0.5525\n",
      "Epoch 9/50\n",
      "50000/50000 [==============================] - 37s 742us/step - loss: 1.3253 - acc: 0.5257 - val_loss: 1.2087 - val_acc: 0.5718\n",
      "Epoch 10/50\n",
      "50000/50000 [==============================] - 36s 720us/step - loss: 1.3080 - acc: 0.5276 - val_loss: 1.2371 - val_acc: 0.5585\n",
      "Epoch 11/50\n",
      "50000/50000 [==============================] - 35s 703us/step - loss: 1.2871 - acc: 0.5344 - val_loss: 1.1912 - val_acc: 0.5783\n",
      "Epoch 12/50\n",
      "50000/50000 [==============================] - 35s 705us/step - loss: 1.2735 - acc: 0.5442 - val_loss: 1.1593 - val_acc: 0.5959\n",
      "Epoch 13/50\n",
      "50000/50000 [==============================] - 35s 703us/step - loss: 1.2511 - acc: 0.5487 - val_loss: 1.1352 - val_acc: 0.6067\n",
      "Epoch 14/50\n",
      "50000/50000 [==============================] - 36s 716us/step - loss: 1.2384 - acc: 0.5539 - val_loss: 1.1153 - val_acc: 0.6088\n",
      "Epoch 15/50\n",
      "50000/50000 [==============================] - 39s 770us/step - loss: 1.2276 - acc: 0.5595 - val_loss: 1.1163 - val_acc: 0.6059\n",
      "Epoch 16/50\n",
      "50000/50000 [==============================] - 37s 735us/step - loss: 1.2171 - acc: 0.5625 - val_loss: 1.0830 - val_acc: 0.6221\n",
      "Epoch 17/50\n",
      "50000/50000 [==============================] - 37s 745us/step - loss: 1.2012 - acc: 0.5708 - val_loss: 1.0787 - val_acc: 0.6232\n",
      "Epoch 18/50\n",
      "50000/50000 [==============================] - 37s 736us/step - loss: 1.1918 - acc: 0.5747 - val_loss: 1.0621 - val_acc: 0.6318\n",
      "Epoch 19/50\n",
      "50000/50000 [==============================] - 37s 735us/step - loss: 1.1809 - acc: 0.5767 - val_loss: 1.0652 - val_acc: 0.6260\n",
      "Epoch 20/50\n",
      "50000/50000 [==============================] - 37s 735us/step - loss: 1.1741 - acc: 0.5780 - val_loss: 1.0571 - val_acc: 0.6258\n",
      "Epoch 21/50\n",
      "50000/50000 [==============================] - 37s 736us/step - loss: 1.1630 - acc: 0.5832 - val_loss: 1.0336 - val_acc: 0.6356\n",
      "Epoch 22/50\n",
      "50000/50000 [==============================] - 38s 751us/step - loss: 1.1542 - acc: 0.5878 - val_loss: 1.0302 - val_acc: 0.6362\n",
      "Epoch 23/50\n",
      "50000/50000 [==============================] - 36s 729us/step - loss: 1.1443 - acc: 0.5891 - val_loss: 1.0051 - val_acc: 0.6504\n",
      "Epoch 24/50\n",
      "50000/50000 [==============================] - 36s 722us/step - loss: 1.1384 - acc: 0.5923 - val_loss: 1.0209 - val_acc: 0.6366\n",
      "Epoch 25/50\n",
      "50000/50000 [==============================] - 36s 722us/step - loss: 1.1269 - acc: 0.5959 - val_loss: 0.9982 - val_acc: 0.6501\n",
      "Epoch 26/50\n",
      "50000/50000 [==============================] - 37s 739us/step - loss: 1.1202 - acc: 0.5997 - val_loss: 0.9984 - val_acc: 0.6475\n",
      "Epoch 27/50\n",
      "50000/50000 [==============================] - 37s 745us/step - loss: 1.1116 - acc: 0.6025 - val_loss: 0.9994 - val_acc: 0.6449\n",
      "Epoch 28/50\n",
      "50000/50000 [==============================] - 37s 733us/step - loss: 1.1055 - acc: 0.6050 - val_loss: 0.9868 - val_acc: 0.6510\n",
      "Epoch 29/50\n",
      "50000/50000 [==============================] - 36s 727us/step - loss: 1.0982 - acc: 0.6055 - val_loss: 0.9657 - val_acc: 0.6612\n",
      "Epoch 30/50\n",
      "50000/50000 [==============================] - 37s 746us/step - loss: 1.1006 - acc: 0.6072 - val_loss: 0.9633 - val_acc: 0.6601\n",
      "Epoch 31/50\n",
      "50000/50000 [==============================] - 37s 739us/step - loss: 1.0851 - acc: 0.6108 - val_loss: 0.9346 - val_acc: 0.6741\n",
      "Epoch 32/50\n",
      "50000/50000 [==============================] - 37s 730us/step - loss: 1.0786 - acc: 0.6163 - val_loss: 0.9593 - val_acc: 0.6601\n",
      "Epoch 33/50\n",
      "50000/50000 [==============================] - 37s 734us/step - loss: 1.0784 - acc: 0.6134 - val_loss: 0.9457 - val_acc: 0.6645\n",
      "Epoch 34/50\n",
      "50000/50000 [==============================] - 36s 724us/step - loss: 1.0721 - acc: 0.6143 - val_loss: 0.9148 - val_acc: 0.6763\n",
      "Epoch 35/50\n",
      "50000/50000 [==============================] - 37s 738us/step - loss: 1.0664 - acc: 0.6176 - val_loss: 0.9077 - val_acc: 0.6808\n",
      "Epoch 36/50\n",
      "50000/50000 [==============================] - 37s 735us/step - loss: 1.0574 - acc: 0.6208 - val_loss: 0.9121 - val_acc: 0.6773\n",
      "Epoch 37/50\n",
      "50000/50000 [==============================] - 36s 727us/step - loss: 1.0537 - acc: 0.6217 - val_loss: 0.9017 - val_acc: 0.6872\n",
      "Epoch 38/50\n",
      "50000/50000 [==============================] - 37s 731us/step - loss: 1.0493 - acc: 0.6251 - val_loss: 0.9026 - val_acc: 0.6810\n",
      "Epoch 39/50\n",
      "50000/50000 [==============================] - 36s 715us/step - loss: 1.0490 - acc: 0.6228 - val_loss: 0.9175 - val_acc: 0.6759\n",
      "Epoch 40/50\n",
      "50000/50000 [==============================] - 37s 733us/step - loss: 1.0423 - acc: 0.6256 - val_loss: 0.8965 - val_acc: 0.6845\n",
      "Epoch 41/50\n",
      "50000/50000 [==============================] - 37s 746us/step - loss: 1.0354 - acc: 0.6296 - val_loss: 0.8793 - val_acc: 0.6924\n",
      "Epoch 42/50\n",
      "50000/50000 [==============================] - 37s 745us/step - loss: 1.0319 - acc: 0.6280 - val_loss: 0.8653 - val_acc: 0.7010\n",
      "Epoch 43/50\n",
      "50000/50000 [==============================] - 37s 733us/step - loss: 1.0266 - acc: 0.6326 - val_loss: 0.8655 - val_acc: 0.6985\n",
      "Epoch 44/50\n",
      "50000/50000 [==============================] - 38s 763us/step - loss: 1.0256 - acc: 0.6325 - val_loss: 0.8607 - val_acc: 0.7007\n",
      "Epoch 45/50\n",
      "50000/50000 [==============================] - 37s 733us/step - loss: 1.0217 - acc: 0.6337 - val_loss: 0.8669 - val_acc: 0.6964\n",
      "Epoch 46/50\n",
      "50000/50000 [==============================] - 37s 733us/step - loss: 1.0111 - acc: 0.6373 - val_loss: 0.8495 - val_acc: 0.7053\n",
      "Epoch 47/50\n",
      "50000/50000 [==============================] - 37s 746us/step - loss: 1.0081 - acc: 0.6366 - val_loss: 0.8562 - val_acc: 0.6990\n",
      "Epoch 48/50\n",
      "50000/50000 [==============================] - 37s 744us/step - loss: 1.0067 - acc: 0.6397 - val_loss: 0.8407 - val_acc: 0.7076\n",
      "Epoch 49/50\n",
      "50000/50000 [==============================] - 37s 739us/step - loss: 1.0008 - acc: 0.6384 - val_loss: 0.8367 - val_acc: 0.7086\n",
      "Epoch 50/50\n",
      "50000/50000 [==============================] - 37s 749us/step - loss: 0.9957 - acc: 0.6400 - val_loss: 0.8245 - val_acc: 0.7128\n"
     ]
    },
    {
     "data": {
      "text/plain": [
       "<keras.callbacks.History at 0x1230100b8>"
      ]
     },
     "execution_count": 17,
     "metadata": {},
     "output_type": "execute_result"
    }
   ],
   "source": [
    "model.fit(X_train_reshape, Y_train, validation_data=(X_test_reshape, Y_test), epochs=epochs, batch_size=32)"
   ]
  },
  {
   "cell_type": "code",
   "execution_count": 18,
   "metadata": {},
   "outputs": [
    {
     "data": {
      "text/plain": [
       "dict_keys(['val_loss', 'val_acc', 'loss', 'acc'])"
      ]
     },
     "execution_count": 18,
     "metadata": {},
     "output_type": "execute_result"
    }
   ],
   "source": [
    "model.history.history.keys()"
   ]
  },
  {
   "cell_type": "code",
   "execution_count": 19,
   "metadata": {},
   "outputs": [
    {
     "data": {
      "image/png": "[encoded data removed]",
      "text/plain": [
       "<Figure size 432x288 with 1 Axes>"
      ]
     },
     "metadata": {},
     "output_type": "display_data"
    }
   ],
   "source": [
    "plt.plot(model.history.history['acc'])\n",
    "plt.plot(model.history.history['val_acc'])\n",
    "plt.title('model accuracy')\n",
    "plt.ylabel('accuracy')\n",
    "plt.xlabel('epoch')\n",
    "plt.legend(['train', 'test'], loc='upper left')\n",
    "plt.show()"
   ]
  },
  {
   "cell_type": "code",
   "execution_count": 20,
   "metadata": {},
   "outputs": [],
   "source": [
    "def visualize_image(X,id):\n",
    "\trgb = X.iloc[id,:].values\n",
    "\t#print(rgb.shape)\n",
    "\timg = rgb.reshape(3,32,32).transpose([1, 2, 0])\n",
    "\t#print(img.shape)\n",
    "\tplt.imshow(img)"
   ]
  },
  {
   "cell_type": "code",
   "execution_count": 21,
   "metadata": {},
   "outputs": [
    {
     "data": {
      "image/png": "[encoded data removed]",
      "text/plain": [
       "<Figure size 432x288 with 1 Axes>"
      ]
     },
     "metadata": {},
     "output_type": "display_data"
    }
   ],
   "source": [
    "visualize_image(X_train,1)"
   ]
  },
  {
   "cell_type": "code",
   "execution_count": 22,
   "metadata": {},
   "outputs": [],
   "source": [
    "prediction = np.argmax(model.predict(X_train_reshape[1].reshape(1,32,32,3)))"
   ]
  },
  {
   "cell_type": "code",
   "execution_count": 23,
   "metadata": {},
   "outputs": [],
   "source": [
    "from sklearn.metrics import confusion_matrix"
   ]
  },
  {
   "cell_type": "code",
   "execution_count": 24,
   "metadata": {},
   "outputs": [],
   "source": [
    "rnn_cn = confusion_matrix(model.predict_classes(X_test_reshape), np.argmax(Y_test, axis=1))"
   ]
  },
  {
   "cell_type": "code",
   "execution_count": 27,
   "metadata": {},
   "outputs": [],
   "source": [
    "import itertools\n",
    "def plot_confusion_matrix(cm, classes,\n",
    "                          title='Confusion matrix',\n",
    "                          cmap=plt.cm.jet):\n",
    "    \"\"\"\n",
    "    This function prints and plots the confusion matrix.\n",
    "    \"\"\"\n",
    "    cm = cm.astype('float') / cm.sum(axis=1)[:, np.newaxis]\n",
    "    plt.imshow(cm, interpolation='nearest', cmap=cmap)\n",
    "    plt.title(title)\n",
    "    plt.colorbar()\n",
    "    tick_marks = np.arange(len(classes))\n",
    "    plt.xticks(tick_marks, classes, rotation=45)\n",
    "    plt.yticks(tick_marks, classes)\n",
    "\n",
    "    thresh = cm.max() / 2.\n",
    "    for i, j in itertools.product(range(cm.shape[0]), range(cm.shape[1])):\n",
    "        plt.text(j, i, '{:.2f}'.format(cm[i, j]), horizontalalignment=\"center\",\n",
    "                 color=\"white\" if cm[i, j] > thresh else \"black\")\n",
    "    plt.tight_layout()\n",
    "    plt.ylabel('True label')\n",
    "    plt.xlabel('Predicted label')"
   ]
  },
  {
   "cell_type": "code",
   "execution_count": 28,
   "metadata": {},
   "outputs": [
    {
     "data": {
      "image/png": "[encoded data removed]",
      "text/plain": [
       "<Figure size 432x288 with 2 Axes>"
      ]
     },
     "metadata": {},
     "output_type": "display_data"
    }
   ],
   "source": [
    "plot_confusion_matrix(rnn_cn, classes = np.unique(Y_train))"
   ]
  },
  {
   "cell_type": "code",
   "execution_count": 29,
   "metadata": {},
   "outputs": [
    {
     "name": "stdout",
     "output_type": "stream",
     "text": [
      "Saved model to disk\n"
     ]
    }
   ],
   "source": [
    "model_json = model.to_json()\n",
    "with open(\"model.json\", \"w\") as json_file:\n",
    "    json_file.write(model_json)\n",
    "# serialize weights to HDF5\n",
    "model.save_weights(\"model.h5\")\n",
    "print(\"Saved model to disk\")"
   ]
  },
  {
   "cell_type": "code",
   "execution_count": null,
   "metadata": {},
   "outputs": [],
   "source": []
  }
 ],
 "metadata": {
  "kernelspec": {
   "display_name": "Python 3",
   "language": "python",
   "name": "python3"
  },
  "language_info": {
   "codemirror_mode": {
    "name": "ipython",
    "version": 3
   },
   "file_extension": ".py",
   "mimetype": "text/x-python",
   "name": "python",
   "nbconvert_exporter": "python",
   "pygments_lexer": "ipython3",
   "version": "3.6.5"
  }
 },
 "nbformat": 4,
 "nbformat_minor": 2
}
